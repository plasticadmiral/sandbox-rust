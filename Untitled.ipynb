{
 "cells": [
  {
   "cell_type": "code",
   "execution_count": 8,
   "id": "134dbf35-5906-496c-b54f-c840234fafd6",
   "metadata": {},
   "outputs": [],
   "source": [
    ":dep plotters = \"0.3.4\"\n",
    ":dep argmin = \"0.7.0\"\n",
    ":dep argmin-math = \"0.2.1\"\n",
    ":dep ndarray = \"0.15.6\"\n"
   ]
  },
  {
   "cell_type": "code",
   "execution_count": 9,
   "id": "43bc2dd4-1c6b-4842-844d-9ceb9c140b89",
   "metadata": {},
   "outputs": [
    {
     "ename": "Error",
     "evalue": "failed to resolve: use of undeclared type `BitMapBackend`",
     "output_type": "error",
     "traceback": [
      "\u001b[31m[E0433] Error:\u001b[0m failed to resolve: use of undeclared type `BitMapBackend`",
      "    \u001b[38;5;246m╭\u001b[0m\u001b[38;5;246m─\u001b[0m\u001b[38;5;246m[\u001b[0mcommand_9:1:1\u001b[38;5;246m]\u001b[0m",
      "    \u001b[38;5;246m│\u001b[0m",
      " \u001b[38;5;246m14 │\u001b[0m \u001b[38;5;249m \u001b[0m\u001b[38;5;249m \u001b[0m\u001b[38;5;249m \u001b[0m\u001b[38;5;249m \u001b[0m\u001b[38;5;249ml\u001b[0m\u001b[38;5;249me\u001b[0m\u001b[38;5;249mt\u001b[0m\u001b[38;5;249m \u001b[0m\u001b[38;5;249mr\u001b[0m\u001b[38;5;249mo\u001b[0m\u001b[38;5;249mo\u001b[0m\u001b[38;5;249mt\u001b[0m\u001b[38;5;249m \u001b[0m\u001b[38;5;249m=\u001b[0m\u001b[38;5;249m \u001b[0m\u001b[38;5;54mB\u001b[0m\u001b[38;5;54mi\u001b[0m\u001b[38;5;54mt\u001b[0m\u001b[38;5;54mM\u001b[0m\u001b[38;5;54ma\u001b[0m\u001b[38;5;54mp\u001b[0m\u001b[38;5;54mB\u001b[0m\u001b[38;5;54ma\u001b[0m\u001b[38;5;54mc\u001b[0m\u001b[38;5;54mk\u001b[0m\u001b[38;5;54me\u001b[0m\u001b[38;5;54mn\u001b[0m\u001b[38;5;54md\u001b[0m\u001b[38;5;249m:\u001b[0m\u001b[38;5;249m:\u001b[0m\u001b[38;5;249mg\u001b[0m\u001b[38;5;249mi\u001b[0m\u001b[38;5;249mf\u001b[0m\u001b[38;5;249m(\u001b[0m\u001b[38;5;249mO\u001b[0m\u001b[38;5;249mU\u001b[0m\u001b[38;5;249mT\u001b[0m\u001b[38;5;249m_\u001b[0m\u001b[38;5;249mF\u001b[0m\u001b[38;5;249mI\u001b[0m\u001b[38;5;249mL\u001b[0m\u001b[38;5;249mE\u001b[0m\u001b[38;5;249m_\u001b[0m\u001b[38;5;249mN\u001b[0m\u001b[38;5;249mA\u001b[0m\u001b[38;5;249mM\u001b[0m\u001b[38;5;249mE\u001b[0m\u001b[38;5;249m,\u001b[0m\u001b[38;5;249m \u001b[0m\u001b[38;5;249m(\u001b[0m\u001b[38;5;249m6\u001b[0m\u001b[38;5;249m0\u001b[0m\u001b[38;5;249m0\u001b[0m\u001b[38;5;249m,\u001b[0m\u001b[38;5;249m \u001b[0m\u001b[38;5;249m4\u001b[0m\u001b[38;5;249m0\u001b[0m\u001b[38;5;249m0\u001b[0m\u001b[38;5;249m)\u001b[0m\u001b[38;5;249m,\u001b[0m\u001b[38;5;249m \u001b[0m\u001b[38;5;249m1\u001b[0m\u001b[38;5;249m0\u001b[0m\u001b[38;5;249m0\u001b[0m\u001b[38;5;249m)\u001b[0m\u001b[38;5;249m?\u001b[0m\u001b[38;5;249m.\u001b[0m\u001b[38;5;249mi\u001b[0m\u001b[38;5;249mn\u001b[0m\u001b[38;5;249mt\u001b[0m\u001b[38;5;249mo\u001b[0m\u001b[38;5;249m_\u001b[0m\u001b[38;5;249md\u001b[0m\u001b[38;5;249mr\u001b[0m\u001b[38;5;249ma\u001b[0m\u001b[38;5;249mw\u001b[0m\u001b[38;5;249mi\u001b[0m\u001b[38;5;249mn\u001b[0m\u001b[38;5;249mg\u001b[0m\u001b[38;5;249m_\u001b[0m\u001b[38;5;249ma\u001b[0m\u001b[38;5;249mr\u001b[0m\u001b[38;5;249me\u001b[0m\u001b[38;5;249ma\u001b[0m\u001b[38;5;249m(\u001b[0m\u001b[38;5;249m)\u001b[0m\u001b[38;5;249m;\u001b[0m",
      " \u001b[38;5;246m   ·\u001b[0m                \u001b[38;5;54m─\u001b[0m\u001b[38;5;54m─\u001b[0m\u001b[38;5;54m─\u001b[0m\u001b[38;5;54m─\u001b[0m\u001b[38;5;54m─\u001b[0m\u001b[38;5;54m─\u001b[0m\u001b[38;5;54m┬\u001b[0m\u001b[38;5;54m─\u001b[0m\u001b[38;5;54m─\u001b[0m\u001b[38;5;54m─\u001b[0m\u001b[38;5;54m─\u001b[0m\u001b[38;5;54m─\u001b[0m\u001b[38;5;54m─\u001b[0m  ",
      " \u001b[38;5;246m   ·\u001b[0m                      \u001b[38;5;54m╰\u001b[0m\u001b[38;5;54m─\u001b[0m\u001b[38;5;54m─\u001b[0m\u001b[38;5;54m─\u001b[0m\u001b[38;5;54m─\u001b[0m\u001b[38;5;54m─\u001b[0m\u001b[38;5;54m─\u001b[0m\u001b[38;5;54m─\u001b[0m\u001b[38;5;54m─\u001b[0m use of undeclared type `BitMapBackend`",
      "\u001b[38;5;246m────╯\u001b[0m"
     ]
    },
    {
     "ename": "Error",
     "evalue": "failed to resolve: use of undeclared type `SurfaceSeries`",
     "output_type": "error",
     "traceback": [
      "\u001b[31m[E0433] Error:\u001b[0m failed to resolve: use of undeclared type `SurfaceSeries`",
      "    \u001b[38;5;246m╭\u001b[0m\u001b[38;5;246m─\u001b[0m\u001b[38;5;246m[\u001b[0mcommand_9:1:1\u001b[38;5;246m]\u001b[0m",
      "    \u001b[38;5;246m│\u001b[0m",
      " \u001b[38;5;246m36 │\u001b[0m \u001b[38;5;249m \u001b[0m\u001b[38;5;249m \u001b[0m\u001b[38;5;249m \u001b[0m\u001b[38;5;249m \u001b[0m\u001b[38;5;249m \u001b[0m\u001b[38;5;249m \u001b[0m\u001b[38;5;249m \u001b[0m\u001b[38;5;249m \u001b[0m\u001b[38;5;249m \u001b[0m\u001b[38;5;249m \u001b[0m\u001b[38;5;249m \u001b[0m\u001b[38;5;249m \u001b[0m\u001b[38;5;54mS\u001b[0m\u001b[38;5;54mu\u001b[0m\u001b[38;5;54mr\u001b[0m\u001b[38;5;54mf\u001b[0m\u001b[38;5;54ma\u001b[0m\u001b[38;5;54mc\u001b[0m\u001b[38;5;54me\u001b[0m\u001b[38;5;54mS\u001b[0m\u001b[38;5;54me\u001b[0m\u001b[38;5;54mr\u001b[0m\u001b[38;5;54mi\u001b[0m\u001b[38;5;54me\u001b[0m\u001b[38;5;54ms\u001b[0m\u001b[38;5;249m:\u001b[0m\u001b[38;5;249m:\u001b[0m\u001b[38;5;249mx\u001b[0m\u001b[38;5;249mo\u001b[0m\u001b[38;5;249mz\u001b[0m\u001b[38;5;249m(\u001b[0m",
      " \u001b[38;5;246m   ·\u001b[0m             \u001b[38;5;54m─\u001b[0m\u001b[38;5;54m─\u001b[0m\u001b[38;5;54m─\u001b[0m\u001b[38;5;54m─\u001b[0m\u001b[38;5;54m─\u001b[0m\u001b[38;5;54m─\u001b[0m\u001b[38;5;54m┬\u001b[0m\u001b[38;5;54m─\u001b[0m\u001b[38;5;54m─\u001b[0m\u001b[38;5;54m─\u001b[0m\u001b[38;5;54m─\u001b[0m\u001b[38;5;54m─\u001b[0m\u001b[38;5;54m─\u001b[0m  ",
      " \u001b[38;5;246m   ·\u001b[0m                   \u001b[38;5;54m╰\u001b[0m\u001b[38;5;54m─\u001b[0m\u001b[38;5;54m─\u001b[0m\u001b[38;5;54m─\u001b[0m\u001b[38;5;54m─\u001b[0m\u001b[38;5;54m─\u001b[0m\u001b[38;5;54m─\u001b[0m\u001b[38;5;54m─\u001b[0m\u001b[38;5;54m─\u001b[0m use of undeclared type `SurfaceSeries`",
      "\u001b[38;5;246m────╯\u001b[0m"
     ]
    },
    {
     "ename": "Error",
     "evalue": "type annotations needed",
     "output_type": "error",
     "traceback": [
      "\u001b[31m[E0283] Error:\u001b[0m type annotations needed",
      "    \u001b[38;5;246m╭\u001b[0m\u001b[38;5;246m─\u001b[0m\u001b[38;5;246m[\u001b[0mcommand_9:1:1\u001b[38;5;246m]\u001b[0m",
      "    \u001b[38;5;246m│\u001b[0m",
      " \u001b[38;5;246m22 │\u001b[0m \u001b[38;5;249m \u001b[0m\u001b[38;5;249m \u001b[0m\u001b[38;5;249m \u001b[0m\u001b[38;5;249m \u001b[0m\u001b[38;5;249m \u001b[0m\u001b[38;5;249m \u001b[0m\u001b[38;5;249m \u001b[0m\u001b[38;5;249m \u001b[0m\u001b[38;5;249m \u001b[0m\u001b[38;5;249m \u001b[0m\u001b[38;5;249m \u001b[0m\u001b[38;5;249m \u001b[0m\u001b[38;5;249m.\u001b[0m\u001b[38;5;54mb\u001b[0m\u001b[38;5;54mu\u001b[0m\u001b[38;5;54mi\u001b[0m\u001b[38;5;54ml\u001b[0m\u001b[38;5;54md\u001b[0m\u001b[38;5;54m_\u001b[0m\u001b[38;5;54mc\u001b[0m\u001b[38;5;54ma\u001b[0m\u001b[38;5;54mr\u001b[0m\u001b[38;5;54mt\u001b[0m\u001b[38;5;54me\u001b[0m\u001b[38;5;54ms\u001b[0m\u001b[38;5;54mi\u001b[0m\u001b[38;5;54ma\u001b[0m\u001b[38;5;54mn\u001b[0m\u001b[38;5;54m_\u001b[0m\u001b[38;5;54m3\u001b[0m\u001b[38;5;54md\u001b[0m\u001b[38;5;249m(\u001b[0m\u001b[38;5;249m-\u001b[0m\u001b[38;5;249m3\u001b[0m\u001b[38;5;249m.\u001b[0m\u001b[38;5;249m0\u001b[0m\u001b[38;5;249m.\u001b[0m\u001b[38;5;249m.\u001b[0m\u001b[38;5;249m3\u001b[0m\u001b[38;5;249m.\u001b[0m\u001b[38;5;249m0\u001b[0m\u001b[38;5;249m,\u001b[0m\u001b[38;5;249m \u001b[0m\u001b[38;5;249m0\u001b[0m\u001b[38;5;249m.\u001b[0m\u001b[38;5;249m0\u001b[0m\u001b[38;5;249m.\u001b[0m\u001b[38;5;249m.\u001b[0m\u001b[38;5;249m6\u001b[0m\u001b[38;5;249m.\u001b[0m\u001b[38;5;249m0\u001b[0m\u001b[38;5;249m,\u001b[0m\u001b[38;5;249m \u001b[0m\u001b[38;5;249m-\u001b[0m\u001b[38;5;249m3\u001b[0m\u001b[38;5;249m.\u001b[0m\u001b[38;5;249m0\u001b[0m\u001b[38;5;249m.\u001b[0m\u001b[38;5;249m.\u001b[0m\u001b[38;5;249m3\u001b[0m\u001b[38;5;249m.\u001b[0m\u001b[38;5;249m0\u001b[0m\u001b[38;5;249m)\u001b[0m\u001b[38;5;249m?\u001b[0m\u001b[38;5;249m;\u001b[0m",
      " \u001b[38;5;246m   ·\u001b[0m              \u001b[38;5;54m─\u001b[0m\u001b[38;5;54m─\u001b[0m\u001b[38;5;54m─\u001b[0m\u001b[38;5;54m─\u001b[0m\u001b[38;5;54m─\u001b[0m\u001b[38;5;54m─\u001b[0m\u001b[38;5;54m─\u001b[0m\u001b[38;5;54m─\u001b[0m\u001b[38;5;54m─\u001b[0m\u001b[38;5;54m┬\u001b[0m\u001b[38;5;54m─\u001b[0m\u001b[38;5;54m─\u001b[0m\u001b[38;5;54m─\u001b[0m\u001b[38;5;54m─\u001b[0m\u001b[38;5;54m─\u001b[0m\u001b[38;5;54m─\u001b[0m\u001b[38;5;54m─\u001b[0m\u001b[38;5;54m─\u001b[0m\u001b[38;5;100m│\u001b[0m ",
      " \u001b[38;5;246m   ·\u001b[0m                       \u001b[38;5;54m╰\u001b[0m\u001b[38;5;54m─\u001b[0m\u001b[38;5;54m─\u001b[0m\u001b[38;5;54m─\u001b[0m\u001b[38;5;54m─\u001b[0m\u001b[38;5;54m─\u001b[0m\u001b[38;5;54m─\u001b[0m\u001b[38;5;54m─\u001b[0m\u001b[38;5;54m─\u001b[0m\u001b[38;5;54m─\u001b[0m\u001b[38;5;54m─\u001b[0m cannot infer type of the type parameter `X` declared on the associated function `build_cartesian_3d`",
      " \u001b[38;5;246m   ·\u001b[0m                                \u001b[38;5;100m│\u001b[0m ",
      " \u001b[38;5;246m   ·\u001b[0m                                \u001b[38;5;100m╰\u001b[0m\u001b[38;5;100m─\u001b[0m help: consider specifying the type arguments in the function call: `::<X, Y, Z>`",
      "\u001b[38;5;246m────╯\u001b[0m"
     ]
    }
   ],
   "source": [
    ":dep plotters = { git = \"https://github.com/38/plotters\", default_features = false, features = [\"evcxr\"] }\n",
    "use plotters::prelude::*;\n",
    "fn pdf(x: f64, y: f64) -> f64 {\n",
    "    const SDX: f64 = 0.1;\n",
    "    const SDY: f64 = 0.1;\n",
    "    const A: f64 = 5.0;\n",
    "    let x = x as f64 / 10.0;\n",
    "    let y = y as f64 / 10.0;\n",
    "    A * (-x * x / 2.0 / SDX / SDX - y * y / 2.0 / SDY / SDY).exp()\n",
    "}\n",
    "\n",
    "const OUT_FILE_NAME: &'static str = \"plotters-doc-data/3d-plot2.gif\";\n",
    "fn main() -> Result<(), Box<dyn std::error::Error>> {\n",
    "    let root = BitMapBackend::gif(OUT_FILE_NAME, (600, 400), 100)?.into_drawing_area();\n",
    "    println!(\"Result has been saved to \");\n",
    "\n",
    "    for pitch in 0..157 {\n",
    "        root.fill(&WHITE)?;\n",
    "\n",
    "        let mut chart = ChartBuilder::on(&root)\n",
    "            .caption(\"2D Gaussian PDF\", (\"sans-serif\", 20))\n",
    "            .build_cartesian_3d(-3.0..3.0, 0.0..6.0, -3.0..3.0)?;\n",
    "        chart.with_projection(|mut p| {\n",
    "            p.pitch = 1.57 - (1.57 - pitch as f64 / 50.0).abs();\n",
    "            p.scale = 0.7;\n",
    "            p.into_matrix() // build the projection matrix\n",
    "        });\n",
    "\n",
    "        chart\n",
    "            .configure_axes()\n",
    "            .light_grid_style(BLACK.mix(0.15))\n",
    "            .max_light_lines(3)\n",
    "            .draw()?;\n",
    "\n",
    "        chart.draw_series(\n",
    "            SurfaceSeries::xoz(\n",
    "                (-15..=15).map(|x| x as f64 / 5.0),\n",
    "                (-15..=15).map(|x| x as f64 / 5.0),\n",
    "                pdf,\n",
    "            )\n",
    "            .style_func(&|&v| {\n",
    "                (&HSLColor(240.0 / 360.0 - 240.0 / 360.0 * v / 5.0, 1.0, 0.7)).into()\n",
    "            }),\n",
    "        )?;\n",
    "\n",
    "        root.present()?;\n",
    "    }\n",
    "\n",
    "    // To avoid the IO failure being ignored silently, we manually call the present function\n",
    "    root.present().expect(\"Unable to write result to file, please make sure 'plotters-doc-data' dir exists under current dir\");\n",
    "    println!(\"Result has been saved to {}\", OUT_FILE_NAME);\n",
    "\n",
    "    Ok(())\n",
    "}\n",
    "#[test]\n",
    "fn entry_point() {\n",
    "    main().unwrap()\n",
    "}"
   ]
  },
  {
   "cell_type": "code",
   "execution_count": 7,
   "id": "4995e416-d41d-404a-bd86-7760b2599c60",
   "metadata": {},
   "outputs": [],
   "source": [
    "fn main() {\n",
    "    println!(\"hell\")\n",
    "}"
   ]
  },
  {
   "cell_type": "code",
   "execution_count": 12,
   "id": "62df6aaa-8c7a-4c70-b865-d69305866f42",
   "metadata": {},
   "outputs": [],
   "source": [
    "use plotters::prelude::*;\n",
    "fn main() -> Result<(), Box<dyn std::error::Error>> {\n",
    "    let root = BitMapBackend::new(\"plotters-doc-data/5.png\", (640, 480)).into_drawing_area();\n",
    "    root.fill(&WHITE);\n",
    "    let root = root.margin(10, 10, 10, 10);\n",
    "    // After this point, we should be able to draw construct a chart context\n",
    "    let mut chart = ChartBuilder::on(&root)\n",
    "        // Set the caption of the chart\n",
    "        .caption(\"This is our first plot\", (\"sans-serif\", 40).into_font())\n",
    "        // Set the size of the label region\n",
    "        .x_label_area_size(20)\n",
    "        .y_label_area_size(40)\n",
    "        // Finally attach a coordinate on the drawing area and make a chart context\n",
    "        .build_cartesian_2d(0f32..10f32, 0f32..10f32)?;\n",
    "\n",
    "    // Then we can draw a mesh\n",
    "    chart\n",
    "        .configure_mesh()\n",
    "        // We can customize the maximum number of labels allowed for each axis\n",
    "        .x_labels(5)\n",
    "        .y_labels(5)\n",
    "        // We can also change the format of the label text\n",
    "        .y_label_formatter(&|x| format!(\"{:.3}\", x))\n",
    "        .draw()?;\n",
    "\n",
    "    // And we can draw something in the drawing area\n",
    "    chart.draw_series(LineSeries::new(\n",
    "        vec![(0.0, 0.0), (5.0, 5.0), (8.0, 7.0)],\n",
    "        &RED,\n",
    "    ))?;\n",
    "    // Similarly, we can draw point series\n",
    "    chart.draw_series(PointSeries::of_element(\n",
    "        vec![(0.0, 0.0), (5.0, 5.0), (8.0, 7.0)],\n",
    "        5,\n",
    "        &RED,\n",
    "        &|c, s, st| {\n",
    "            return EmptyElement::at(c)    // We want to construct a composed element on-the-fly\n",
    "            + Circle::new((0,0),s,st.filled()) // At this point, the new pixel coordinate is established\n",
    "            + Text::new(format!(\"{:?}\", c), (10, 0), (\"sans-serif\", 10).into_font());\n",
    "        },\n",
    "    ))?;\n",
    "    root.present()?;\n",
    "    Ok(())\n",
    "}"
   ]
  },
  {
   "cell_type": "code",
   "execution_count": null,
   "id": "0c0e53cf-6830-442d-85ef-8dfa0a1b8a1b",
   "metadata": {},
   "outputs": [],
   "source": []
  },
  {
   "cell_type": "code",
   "execution_count": null,
   "id": "392037e0-9703-4199-ad31-e9b333a744b6",
   "metadata": {},
   "outputs": [],
   "source": []
  },
  {
   "cell_type": "code",
   "execution_count": null,
   "id": "c61e0645-4d57-492d-bf0c-c61c775a2a97",
   "metadata": {},
   "outputs": [],
   "source": []
  },
  {
   "cell_type": "code",
   "execution_count": null,
   "id": "f30558c5-cb27-4f6f-b813-9e2309e1a8d9",
   "metadata": {},
   "outputs": [],
   "source": []
  },
  {
   "cell_type": "code",
   "execution_count": null,
   "id": "a0913880-f5bd-440d-a5f8-ad8061278559",
   "metadata": {},
   "outputs": [],
   "source": []
  },
  {
   "cell_type": "code",
   "execution_count": null,
   "id": "fc277ffe-3f38-46a6-8993-87ccd146813b",
   "metadata": {},
   "outputs": [],
   "source": []
  }
 ],
 "metadata": {
  "kernelspec": {
   "display_name": "Rust",
   "language": "rust",
   "name": "rust"
  },
  "language_info": {
   "codemirror_mode": "rust",
   "file_extension": ".rs",
   "mimetype": "text/rust",
   "name": "Rust",
   "pygment_lexer": "rust",
   "version": ""
  }
 },
 "nbformat": 4,
 "nbformat_minor": 5
}
